{
 "cells": [
  {
   "cell_type": "code",
   "execution_count": 1,
   "id": "2f2b6a1b-8085-4c83-ab24-7edd0e231d8b",
   "metadata": {},
   "outputs": [
    {
     "name": "stdout",
     "output_type": "stream",
     "text": [
      "ytisrevinU ecnaillA\n"
     ]
    }
   ],
   "source": [
    "#1. Reverse a String using a Stack:\n",
    "#• Implement a stack using a list and write a function to reverse a given string. Push each character of the string onto the stack, \n",
    "# then pop each character off the stack to reverse the string.\n",
    "def reverse_string(s):\n",
    "    stack = []\n",
    "    for char in s:\n",
    "        stack.append(char)\n",
    "    reversed_str = ''\n",
    "    while stack:\n",
    "        reversed_str += stack.pop()\n",
    "    return reversed_str\n",
    "\n",
    "print(reverse_string(\"Alliance University\"))\n"
   ]
  },
  {
   "cell_type": "code",
   "execution_count": 3,
   "id": "79c878cc-1cd7-405d-9350-ddedf025c5d0",
   "metadata": {},
   "outputs": [
    {
     "name": "stdout",
     "output_type": "stream",
     "text": [
      "[1, 2, 3, 4]\n"
     ]
    }
   ],
   "source": [
    "#2. Stack Sort Algorithm:\n",
    "#• Implement a stack using a list and sort the elements using only stack operations (i.e., push, pop). You are not allowed to use any other data structures like lists,\n",
    "#queues, or arrays to store intermediate elements.\n",
    "def sort_stack(input_stack):\n",
    "    temp_stack = []\n",
    "    while input_stack:\n",
    "        temp = input_stack.pop()\n",
    "        while temp_stack and temp_stack[-1] > temp:\n",
    "            input_stack.append(temp_stack.pop())\n",
    "        temp_stack.append(temp)\n",
    "    return temp_stack\n",
    "\n",
    "print(sort_stack([3, 1, 4, 2]))\n"
   ]
  },
  {
   "cell_type": "code",
   "execution_count": 5,
   "id": "cf488b05-5549-4b10-8be2-7b6fbcd1a5e8",
   "metadata": {},
   "outputs": [
    {
     "name": "stdout",
     "output_type": "stream",
     "text": [
      "1\n",
      "2\n"
     ]
    }
   ],
   "source": [
    "# 3. Implement a Stack for Queue Operations:\n",
    "# • Use two stacks (implemented with lists) to simulate the behavior of a queue.\n",
    "# Implement the following operations:\n",
    "# ▪ enqueue(x): Add element x to the queue.\n",
    "# ▪ dequeue(): Remove and return the element at the front of the queue.\n",
    "class QueueUsingStacks:\n",
    "    def __init__(self):\n",
    "        self.stack1 = []\n",
    "        self.stack2 = []\n",
    "\n",
    "    def enqueue(self, x):\n",
    "        self.stack1.append(x)\n",
    "\n",
    "    def dequeue(self):\n",
    "        if not self.stack2:\n",
    "            while self.stack1:\n",
    "                self.stack2.append(self.stack1.pop())\n",
    "        return self.stack2.pop() if self.stack2 else None\n",
    "\n",
    "q = QueueUsingStacks()\n",
    "q.enqueue(1)\n",
    "q.enqueue(2)\n",
    "print(q.dequeue())  \n",
    "print(q.dequeue()) \n"
   ]
  },
  {
   "cell_type": "code",
   "execution_count": 7,
   "id": "bc8c213c-95a1-403c-8401-657bf2ad1dd3",
   "metadata": {},
   "outputs": [
    {
     "name": "stdout",
     "output_type": "stream",
     "text": [
      "Undo: B\n",
      "Redo: B\n"
     ]
    }
   ],
   "source": [
    "# 4. Undo/Redo Operation with Stack:\n",
    "# • Implement an undo/redo system using two stacks. One stack will hold the history\n",
    "# of actions (for undo), and another stack will hold the actions that were undone (for\n",
    "# redo). The stack should be able to support undo() and redo() operations.\n",
    "class UndoRedo:\n",
    "    def __init__(self):\n",
    "        self.undo_stack = []\n",
    "        self.redo_stack = []\n",
    "\n",
    "    def perform(self, action):\n",
    "        self.undo_stack.append(action)\n",
    "        self.redo_stack.clear()\n",
    "\n",
    "    def undo(self):\n",
    "        if self.undo_stack:\n",
    "            action = self.undo_stack.pop()\n",
    "            self.redo_stack.append(action)\n",
    "            return f\"Undo: {action}\"\n",
    "\n",
    "    def redo(self):\n",
    "        if self.redo_stack:\n",
    "            action = self.redo_stack.pop()\n",
    "            self.undo_stack.append(action)\n",
    "            return f\"Redo: {action}\"\n",
    "\n",
    "u = UndoRedo()\n",
    "u.perform(\"A\")\n",
    "u.perform(\"B\")\n",
    "print(u.undo())\n",
    "print(u.redo())\n"
   ]
  },
  {
   "cell_type": "code",
   "execution_count": 11,
   "id": "136f5e54-9525-40f4-ab54-b9ab817b61f5",
   "metadata": {},
   "outputs": [
    {
     "name": "stdout",
     "output_type": "stream",
     "text": [
      "2\n"
     ]
    }
   ],
   "source": [
    "# 5. Implement a Stack that Supports Getting the Middle Element:\n",
    "# • Implement a stack using a list that supports the following operations:\n",
    "# o push(x): Push an element onto the stack.\n",
    "# o pop(): Remove the element at the top of the stack.\n",
    "# o get_middle(): Return the middle element of the stack. If the stack has an even\n",
    "# number of elements, return the lower of the two middle elements.\n",
    "class StackWithMiddle:\n",
    "    def __init__(self):\n",
    "        self.stack = []\n",
    "\n",
    "    def push(self, x):\n",
    "        self.stack.append(x)\n",
    "\n",
    "    def pop(self):\n",
    "        return self.stack.pop() if self.stack else None\n",
    "\n",
    "    def get_middle(self):\n",
    "        n = len(self.stack)\n",
    "        if n == 0:\n",
    "            return None\n",
    "        return self.stack[(n - 1) // 2]\n",
    "\n",
    "s = StackWithMiddle()\n",
    "s.push(1)\n",
    "s.push(2)\n",
    "s.push(3)\n",
    "s.push(4)\n",
    "print(s.get_middle()) \n"
   ]
  },
  {
   "cell_type": "code",
   "execution_count": 13,
   "id": "fa55ed30-ade1-411f-a5f8-cf96ac3fe404",
   "metadata": {},
   "outputs": [
    {
     "name": "stdout",
     "output_type": "stream",
     "text": [
      "[1, 2, 3, 4]\n"
     ]
    }
   ],
   "source": [
    "# 6. Remove Duplicates from a Stack:\n",
    "# • Implement a function that removes all duplicate elements from a stack. The stack\n",
    "# is represented as a list, and the function should ensure the stack contains only unique\n",
    "# elements in the order they first appeared.\n",
    "def remove_duplicates(stack):\n",
    "    seen = set()\n",
    "    result = []\n",
    "    for item in stack:\n",
    "        if item not in seen:\n",
    "            seen.add(item)\n",
    "            result.append(item)\n",
    "    return result\n",
    "\n",
    "print(remove_duplicates([1, 2, 2, 3, 1, 4]))\n"
   ]
  },
  {
   "cell_type": "code",
   "execution_count": 15,
   "id": "366c85cc-2de0-4874-963e-b31666a18bdc",
   "metadata": {},
   "outputs": [
    {
     "name": "stdout",
     "output_type": "stream",
     "text": [
      "20\n"
     ]
    }
   ],
   "source": [
    "# 7. Implement Stack with Two Queues:\n",
    "# • Using two queues (represented by lists), implement a stack. Implement the\n",
    "# following stack operations:\n",
    "# o push(x): Add element x to the stack.\n",
    "# o pop(): Remove and return the top element from the stack.\n",
    "# o peek(): Return the top element without removing it.\n",
    "# o is_empty(): Return whether the stack is empty.\n",
    "class StackWithQueues:\n",
    "    def __init__(self):\n",
    "        self.q1 = []\n",
    "        self.q2 = []\n",
    "\n",
    "    def push(self, x):\n",
    "        self.q2.append(x)\n",
    "        while self.q1:\n",
    "            self.q2.append(self.q1.pop(0))\n",
    "        self.q1, self.q2 = self.q2, []\n",
    "\n",
    "    def pop(self):\n",
    "        return self.q1.pop(0) if self.q1 else None\n",
    "\n",
    "    def peek(self):\n",
    "        return self.q1[0] if self.q1 else None\n",
    "\n",
    "    def is_empty(self):\n",
    "        return len(self.q1) == 0\n",
    "\n",
    "s = StackWithQueues()\n",
    "s.push(10)\n",
    "s.push(20)\n",
    "print(s.pop())  \n"
   ]
  },
  {
   "cell_type": "code",
   "execution_count": 17,
   "id": "d92b4303-f7ea-4952-9a6d-03dfdbaa4f01",
   "metadata": {},
   "outputs": [
    {
     "name": "stdout",
     "output_type": "stream",
     "text": [
      "True\n",
      "False\n"
     ]
    }
   ],
   "source": [
    "# 8. Check if a Stack is Palindrome:\n",
    "# • Implement a stack using a list and write a function to check whether the elements\n",
    "# of a stack form a palindrome (i.e., the stack is the same when reversed).\n",
    "def is_palindrome_stack(stack):\n",
    "    return stack == stack[::-1]\n",
    "\n",
    "print(is_palindrome_stack([1, 2, 3, 2, 1]))  \n",
    "print(is_palindrome_stack([1, 2, 3]))        \n"
   ]
  },
  {
   "cell_type": "code",
   "execution_count": 19,
   "id": "16cd7b4d-4ca2-4a9c-a685-ee547c89a9ff",
   "metadata": {},
   "outputs": [
    {
     "name": "stdout",
     "output_type": "stream",
     "text": [
      "[5, 10, 10, -1]\n"
     ]
    }
   ],
   "source": [
    "# 9. Next Greater Element using Stack:\n",
    "# • Given a list of numbers, implement a stack to find the next greater element for each\n",
    "# element in the list. For each element, find the nearest greater element that appears\n",
    "# later in the list. If no greater element exists, return -1.\n",
    "def next_greater(nums):\n",
    "    result = [-1] * len(nums)\n",
    "    stack = []\n",
    "    for i in range(len(nums)):\n",
    "        while stack and nums[i] > nums[stack[-1]]:\n",
    "            idx = stack.pop()\n",
    "            result[idx] = nums[i]\n",
    "        stack.append(i)\n",
    "    return result\n",
    "\n",
    "print(next_greater([4, 5, 2, 10]))\n"
   ]
  },
  {
   "cell_type": "code",
   "execution_count": 21,
   "id": "eb53972f-337e-4c59-9bfa-371b47e71d3d",
   "metadata": {},
   "outputs": [
    {
     "name": "stdout",
     "output_type": "stream",
     "text": [
      "[4, 3, 2, 1]\n"
     ]
    }
   ],
   "source": [
    "# 10. Reverse a Queue using a Stack:\n",
    "# • Given a queue, implement a stack to reverse the queue using only stack operations\n",
    "# (push, pop). You cannot use any other additional data structures for storing\n",
    "# intermediate elements.\n",
    "def reverse_queue(queue):\n",
    "    stack = []\n",
    "    while queue:\n",
    "        stack.append(queue.pop(0))\n",
    "    while stack:\n",
    "        queue.append(stack.pop())\n",
    "    return queue\n",
    "\n",
    "print(reverse_queue([1, 2, 3, 4]))\n"
   ]
  },
  {
   "cell_type": "code",
   "execution_count": 23,
   "id": "ec39b0dd-d096-4fc3-9f57-a6cc6a5660ad",
   "metadata": {},
   "outputs": [
    {
     "name": "stdout",
     "output_type": "stream",
     "text": [
      "[5, 7]\n"
     ]
    }
   ],
   "source": [
    "# 11. Remove All Elements Less Than X:\n",
    "# • Implement a stack using a list and write a function that removes all elements less\n",
    "# than a given number X from the stack. After removing the elements, return the\n",
    "# modified stack. \n",
    "def remove_less_than(stack, x):\n",
    "    return [item for item in stack if item >= x]\n",
    "\n",
    "print(remove_less_than([1, 5, 2, 7, 3], 4))\n"
   ]
  },
  {
   "cell_type": "code",
   "execution_count": null,
   "id": "5066b5a4-0e1a-4b2e-913c-3f24e5afba0f",
   "metadata": {},
   "outputs": [],
   "source": []
  }
 ],
 "metadata": {
  "kernelspec": {
   "display_name": "Python 3 (ipykernel)",
   "language": "python",
   "name": "python3"
  },
  "language_info": {
   "codemirror_mode": {
    "name": "ipython",
    "version": 3
   },
   "file_extension": ".py",
   "mimetype": "text/x-python",
   "name": "python",
   "nbconvert_exporter": "python",
   "pygments_lexer": "ipython3",
   "version": "3.12.4"
  }
 },
 "nbformat": 4,
 "nbformat_minor": 5
}
