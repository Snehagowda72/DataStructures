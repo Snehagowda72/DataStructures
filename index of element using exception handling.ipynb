{
 "cells": [
  {
   "cell_type": "code",
   "execution_count": 1,
   "id": "04e33727-ca24-4f85-b13c-79fc3fc46755",
   "metadata": {},
   "outputs": [
    {
     "name": "stdout",
     "output_type": "stream",
     "text": [
      "2\n",
      "-1\n"
     ]
    }
   ],
   "source": [
    "#write a function tht takes an array and an elemnt as input, and returns the index of the elemnets in the array.\n",
    "#if the elemnet is not found, it should return -1.\n",
    "#hint: use exception handling concept\n",
    "\n",
    "def find_index(x, y):\n",
    "    try:\n",
    "        return x.index(y)\n",
    "    except ValueError:\n",
    "        return -1\n",
    "\n",
    "my_list = [10, 20, 30, 40, 50]\n",
    "print(find_index(my_list, 30)) \n",
    "print(find_index(my_list, 100))"
   ]
  },
  {
   "cell_type": "code",
   "execution_count": 15,
   "id": "37682707-31d9-402d-ac49-7bdbfe39beb3",
   "metadata": {},
   "outputs": [
    {
     "name": "stdin",
     "output_type": "stream",
     "text": [
      " 30\n"
     ]
    },
    {
     "name": "stdout",
     "output_type": "stream",
     "text": [
      "2\n"
     ]
    }
   ],
   "source": [
    "import array as arr\n",
    "x= arr.array('i',[10,20,30,60,50])\n",
    "ele=int(input())\n",
    "def e_index(x,ele):\n",
    "    n=len(x)\n",
    "    try:\n",
    "        for i in range(n):\n",
    "            if x[i] == ele:\n",
    "                return i\n",
    "        raise ValueError(\"not found\")\n",
    "    except ValueError:\n",
    "        return -1\n",
    "result = e_index(x,ele)\n",
    "print(result)\n",
    "        \n",
    "        "
   ]
  },
  {
   "cell_type": "code",
   "execution_count": 19,
   "id": "d14155b9-6f3f-4096-b9a7-046ae50253b2",
   "metadata": {},
   "outputs": [
    {
     "name": "stdin",
     "output_type": "stream",
     "text": [
      " 60\n"
     ]
    },
    {
     "name": "stdout",
     "output_type": "stream",
     "text": [
      "3\n"
     ]
    }
   ],
   "source": [
    "import numpy as np \n",
    "x= arr.array('i',[10,20,30,60,50])\n",
    "ele=int(input())\n",
    "def e_index(x,ele):\n",
    "    n=len(x)\n",
    "    try:\n",
    "        for i in range(n):\n",
    "            if x[i] == ele:\n",
    "                return i\n",
    "        raise ValueError(\"not found\")\n",
    "    except ValueError:\n",
    "        return -1\n",
    "result = e_index(x,ele)\n",
    "print(result)"
   ]
  },
  {
   "cell_type": "code",
   "execution_count": null,
   "id": "c12c9468-2d2e-4e9a-8331-eab7c737b384",
   "metadata": {},
   "outputs": [],
   "source": []
  }
 ],
 "metadata": {
  "kernelspec": {
   "display_name": "Python 3 (ipykernel)",
   "language": "python",
   "name": "python3"
  },
  "language_info": {
   "codemirror_mode": {
    "name": "ipython",
    "version": 3
   },
   "file_extension": ".py",
   "mimetype": "text/x-python",
   "name": "python",
   "nbconvert_exporter": "python",
   "pygments_lexer": "ipython3",
   "version": "3.12.4"
  }
 },
 "nbformat": 4,
 "nbformat_minor": 5
}
