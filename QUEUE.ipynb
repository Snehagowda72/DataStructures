{
 "cells": [
  {
   "cell_type": "code",
   "execution_count": 1,
   "id": "75388637-b707-47e2-99d7-d80754fff495",
   "metadata": {},
   "outputs": [
    {
     "name": "stdout",
     "output_type": "stream",
     "text": [
      "1\n",
      "2\n",
      "False\n"
     ]
    }
   ],
   "source": [
    "# 1 . Queue using Two Stacks (Array or List-based):\n",
    "# • Implement a queue using two stacks. The queue should support the following\n",
    "# operations:\n",
    "# o enqueue(x): Add element x to the queue.\n",
    "# o dequeue(): Remove and return the element at the front of the queue.\n",
    "# o peek(): Return the front element without removing it.\n",
    "# o is_empty(): Check if the queue is empty.\n",
    "# • (Hint: You can implement this by using two stacks for enqueue and dequeue\n",
    "# operations.\n",
    "\n",
    "class QueueUsingStacks:\n",
    "    def __init__(self):\n",
    "        self.stack1 = []  \n",
    "        self.stack2 = []  \n",
    "\n",
    "    def enqueue(self, x):\n",
    "        self.stack1.append(x)\n",
    "\n",
    "    def dequeue(self):\n",
    "        if not self.stack2:\n",
    "            while self.stack1:\n",
    "                self.stack2.append(self.stack1.pop())\n",
    "        return self.stack2.pop() if self.stack2 else None\n",
    "\n",
    "    def peek(self):\n",
    "        if self.stack2:\n",
    "            return self.stack2[-1]\n",
    "        if self.stack1:\n",
    "            return self.stack1[0]\n",
    "        return None\n",
    "\n",
    "    def is_empty(self):\n",
    "        return not self.stack1 and not self.stack2\n",
    "\n",
    "\n",
    "q = QueueUsingStacks()\n",
    "q.enqueue(1)\n",
    "q.enqueue(2)\n",
    "q.enqueue(3)\n",
    "print(q.dequeue())  \n",
    "print(q.peek())     \n",
    "print(q.is_empty()) \n"
   ]
  },
  {
   "cell_type": "code",
   "execution_count": 2,
   "id": "6c0c1560-bcc1-4f3b-9035-7dba6ecde272",
   "metadata": {},
   "outputs": [
    {
     "name": "stdout",
     "output_type": "stream",
     "text": [
      "[5, 4, 3, 2, 1]\n"
     ]
    }
   ],
   "source": [
    "# 2 . Reverse a Queue Using Recursion:\n",
    "# • Implement a queue using a linked list (or array) and write a function to reverse the\n",
    "# elements of the queue using recursion. You should only use the basic queue operations\n",
    "# like enqueue and dequeue\n",
    "\n",
    "from collections import deque\n",
    "\n",
    "def reverse_queue(queue):\n",
    "    if not queue:\n",
    "        return\n",
    "    item = queue.popleft()\n",
    "    reverse_queue(queue)\n",
    "    queue.append(item)\n",
    "\n",
    "\n",
    "q = deque([1, 2, 3, 4, 5])\n",
    "reverse_queue(q)\n",
    "print(list(q))  \n"
   ]
  },
  {
   "cell_type": "code",
   "execution_count": 4,
   "id": "d9829394-3f69-4cf9-8219-66876543d01f",
   "metadata": {},
   "outputs": [
    {
     "name": "stdout",
     "output_type": "stream",
     "text": [
      "6\n",
      "6\n"
     ]
    }
   ],
   "source": [
    "# 3. Design a Queue that Supports max() Operation:\n",
    "# • Implement a queue using an array or linked list that supports the enqueue(x),\n",
    "# dequeue(), and max() operations. The max() operation should return the maximum\n",
    "# element in the queue in constant time (O(1))\n",
    "# from collections import deque\n",
    "\n",
    "class MaxQueue:\n",
    "    def __init__(self):\n",
    "        self.queue = deque()\n",
    "        self.max_deque = deque()\n",
    "\n",
    "    def enqueue(self, x):\n",
    "        self.queue.append(x)\n",
    "        while self.max_deque and self.max_deque[-1] < x:\n",
    "            self.max_deque.pop()\n",
    "        self.max_deque.append(x)\n",
    "\n",
    "    def dequeue(self):\n",
    "        if self.queue:\n",
    "            val = self.queue.popleft()\n",
    "            if val == self.max_deque[0]:\n",
    "                self.max_deque.popleft()\n",
    "            return val\n",
    "        return None\n",
    "\n",
    "    def max(self):\n",
    "        return self.max_deque[0] if self.max_deque else None\n",
    "\n",
    "\n",
    "mq = MaxQueue()\n",
    "mq.enqueue(1)\n",
    "mq.enqueue(2)\n",
    "mq.enqueue(6)\n",
    "print(mq.max())    \n",
    "mq.dequeue()\n",
    "print(mq.max())\n"
   ]
  },
  {
   "cell_type": "code",
   "execution_count": 5,
   "id": "1895ddd9-8307-491a-85a1-7e32410bcf8a",
   "metadata": {},
   "outputs": [
    {
     "name": "stdout",
     "output_type": "stream",
     "text": [
      "[1, 2, 3, 4, 5, 6]\n"
     ]
    }
   ],
   "source": [
    "#4. Merge Two Queues Alternating Elements\n",
    "\n",
    "from collections import deque\n",
    "\n",
    "def merge_queues(q1, q2):\n",
    "    merged_queue = deque()\n",
    "    while q1 or q2:\n",
    "        if q1:\n",
    "            merged_queue.append(q1.popleft())\n",
    "        if q2:\n",
    "            merged_queue.append(q2.popleft())\n",
    "    return list(merged_queue)\n",
    "\n",
    "# Example\n",
    "q1 = deque([1, 3, 5])\n",
    "q2 = deque([2, 4, 6])\n",
    "print(merge_queues(q1, q2))  \n"
   ]
  },
  {
   "cell_type": "code",
   "execution_count": 6,
   "id": "fdd3cc44-7a59-4c32-a5a6-a1363c1b045c",
   "metadata": {},
   "outputs": [
    {
     "name": "stdout",
     "output_type": "stream",
     "text": [
      "3\n"
     ]
    }
   ],
   "source": [
    "#5. Queue with Count of Specific Element\n",
    "\n",
    "from collections import deque\n",
    "\n",
    "def count_occurrences(queue, element):\n",
    "    return sum(1 for item in queue if item == element)\n",
    "\n",
    "\n",
    "q = deque([1, 2, 3, 2, 2])\n",
    "print(count_occurrences(q, 2)) \n"
   ]
  },
  {
   "cell_type": "code",
   "execution_count": 10,
   "id": "3127fbdc-9759-4936-bccd-f9b11d585ba3",
   "metadata": {},
   "outputs": [
    {
     "name": "stdout",
     "output_type": "stream",
     "text": [
      "Friday is Today\n"
     ]
    }
   ],
   "source": [
    "#6. Reverse Words in a Sentence Using a Queue\n",
    "\n",
    "from collections import deque\n",
    "\n",
    "def reverse_sentence(sentence):\n",
    "    words = sentence.split()\n",
    "    queue = deque(words)\n",
    "    return \" \".join(reversed(queue))\n",
    "\n",
    "print(reverse_sentence(\"Today is Friday\"))  \n"
   ]
  },
  {
   "cell_type": "code",
   "execution_count": 11,
   "id": "888487d6-406e-4c33-8275-7cf9a085093c",
   "metadata": {},
   "outputs": [
    {
     "name": "stdout",
     "output_type": "stream",
     "text": [
      "True\n",
      "False\n"
     ]
    }
   ],
   "source": [
    "#7. Queue that Supports contains(x) Operation\n",
    "\n",
    "class QueueWithContains:\n",
    "    def __init__(self):\n",
    "        self.queue = []\n",
    "        self.elements = set()\n",
    "\n",
    "    def enqueue(self, x):\n",
    "        self.queue.append(x)\n",
    "        self.elements.add(x)\n",
    "\n",
    "    def dequeue(self):\n",
    "        if self.queue:\n",
    "            val = self.queue.pop(0)\n",
    "            self.elements.discard(val)\n",
    "            return val\n",
    "        return None\n",
    "\n",
    "    def contains(self, x):\n",
    "        return x in self.elements\n",
    "\n",
    "qc = QueueWithContains()\n",
    "qc.enqueue(5)\n",
    "qc.enqueue(10)\n",
    "print(qc.contains(5))  \n",
    "qc.dequeue()\n",
    "print(qc.contains(5))  \n"
   ]
  },
  {
   "cell_type": "code",
   "execution_count": null,
   "id": "25878919-5669-4f88-97ec-e49a203a67ff",
   "metadata": {},
   "outputs": [],
   "source": []
  }
 ],
 "metadata": {
  "kernelspec": {
   "display_name": "Python 3 (ipykernel)",
   "language": "python",
   "name": "python3"
  },
  "language_info": {
   "codemirror_mode": {
    "name": "ipython",
    "version": 3
   },
   "file_extension": ".py",
   "mimetype": "text/x-python",
   "name": "python",
   "nbconvert_exporter": "python",
   "pygments_lexer": "ipython3",
   "version": "3.12.4"
  }
 },
 "nbformat": 4,
 "nbformat_minor": 5
}
