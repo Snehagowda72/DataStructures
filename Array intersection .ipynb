{
 "cells": [
  {
   "cell_type": "code",
   "execution_count": 1,
   "id": "cbfb159a-ea81-4f92-a2db-667ec025782e",
   "metadata": {},
   "outputs": [
    {
     "name": "stdout",
     "output_type": "stream",
     "text": [
      "[4, 5]\n"
     ]
    }
   ],
   "source": [
    "# given two arrays write a python function to find the intersection of both arrays(i.e., common elements) Use list and set concepts.\n",
    "\n",
    "def find_intersection(arr1, arr2):\n",
    "    set1 = set(arr1)\n",
    "    set2 = set(arr2)\n",
    "    intersection = set1 & set2\n",
    "    return list(intersection)\n",
    "array1 = [1, 2, 3, 4, 5]\n",
    "array2 = [4, 5, 6, 7, 8]\n",
    "common_elements = find_intersection(array1, array2)\n",
    "print(common_elements)"
   ]
  },
  {
   "cell_type": "code",
   "execution_count": 3,
   "id": "8cd45a66-10e5-40e7-a4cf-a423c927d58f",
   "metadata": {},
   "outputs": [
    {
     "name": "stdout",
     "output_type": "stream",
     "text": [
      "<class 'numpy.ndarray'>\n",
      "[20 30]\n"
     ]
    }
   ],
   "source": [
    "import numpy as np\n",
    "x1 = np.array([10,20,30,90])\n",
    "x2 = np.array([20,30,100,0])\n",
    "\n",
    "def arr_common(x1,x2):\n",
    "    new_arr=[]\n",
    "    for i in x1:\n",
    "        if i in x2:\n",
    "            new_arr.append(i)\n",
    "    return np.array(new_arr)\n",
    "\n",
    "result= arr_common(x1,x2)\n",
    "print(type(result))\n",
    "print(result)"
   ]
  },
  {
   "cell_type": "code",
   "execution_count": null,
   "id": "3f66c716-04f7-4634-8e85-24241117e690",
   "metadata": {},
   "outputs": [],
   "source": []
  }
 ],
 "metadata": {
  "kernelspec": {
   "display_name": "Python 3 (ipykernel)",
   "language": "python",
   "name": "python3"
  },
  "language_info": {
   "codemirror_mode": {
    "name": "ipython",
    "version": 3
   },
   "file_extension": ".py",
   "mimetype": "text/x-python",
   "name": "python",
   "nbconvert_exporter": "python",
   "pygments_lexer": "ipython3",
   "version": "3.12.4"
  }
 },
 "nbformat": 4,
 "nbformat_minor": 5
}
