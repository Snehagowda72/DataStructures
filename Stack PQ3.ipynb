{
 "cells": [
  {
   "cell_type": "code",
   "execution_count": 4,
   "id": "283f51aa-d687-4ff0-aefc-01a341137d37",
   "metadata": {},
   "outputs": [
    {
     "name": "stdout",
     "output_type": "stream",
     "text": [
      "Infix: ((a+b)*c)\n"
     ]
    }
   ],
   "source": [
    "#1. write a program to convert a postfix expression to its equivalent infix expression.\n",
    "def postfix_to_infix(postfix):\n",
    "    stack = []\n",
    "    for ch in postfix:\n",
    "        if ch.isalnum():  # operand\n",
    "            stack.append(ch)\n",
    "        else:  # operator\n",
    "            b = stack.pop()\n",
    "            a = stack.pop()\n",
    "            expr = f\"({a}{ch}{b})\"\n",
    "            stack.append(expr)\n",
    "    return stack[-1]\n",
    "postfix = \"ab+c*\"\n",
    "print(\"Infix:\", postfix_to_infix(postfix))\n"
   ]
  },
  {
   "cell_type": "code",
   "execution_count": 8,
   "id": "d1bf945f-ca55-495d-9ee3-f8d935f5a772",
   "metadata": {},
   "outputs": [
    {
     "name": "stdout",
     "output_type": "stream",
     "text": [
      "Prefix: *+abc\n"
     ]
    }
   ],
   "source": [
    "# 2. Write a program to convert a postfix expression to its equivalent prefix expression.\n",
    "def postfix_to_prefix(postfix):\n",
    "    stack = []\n",
    "    for ch in postfix:\n",
    "        if ch.isalnum():  # operand\n",
    "            stack.append(ch)\n",
    "        else:  # operator\n",
    "            b = stack.pop()\n",
    "            a = stack.pop()\n",
    "            expr = ch + a + b\n",
    "            stack.append(expr)\n",
    "    return stack[-1]\n",
    "postfix = \"ab+c*\"\n",
    "print(\"Prefix:\", postfix_to_prefix(postfix))\n"
   ]
  },
  {
   "cell_type": "code",
   "execution_count": 12,
   "id": "10130e85-e846-48c5-a30f-65689edd9008",
   "metadata": {},
   "outputs": [
    {
     "name": "stdout",
     "output_type": "stream",
     "text": [
      "Postfix: ab+c*\n"
     ]
    }
   ],
   "source": [
    "# 3. Write a program to convert a prefix expression to its equivalent postfix expression.\n",
    "def prefix_to_postfix(prefix):\n",
    "    stack = []\n",
    "    for ch in reversed(prefix):\n",
    "        if ch.isalnum():  # operand\n",
    "            stack.append(ch)\n",
    "        else:  # operator\n",
    "            a = stack.pop()\n",
    "            b = stack.pop()\n",
    "            expr = a + b + ch\n",
    "            stack.append(expr)\n",
    "    return stack[-1]\n",
    "prefix = \"*+abc\"\n",
    "print(\"Postfix:\", prefix_to_postfix(prefix)) \n"
   ]
  },
  {
   "cell_type": "code",
   "execution_count": 14,
   "id": "086ad054-2256-4fff-a387-ab04ee32d374",
   "metadata": {},
   "outputs": [
    {
     "name": "stdout",
     "output_type": "stream",
     "text": [
      "a\n"
     ]
    }
   ],
   "source": [
    "#4. Write a program to implement multiple stacks using a single list.    \n",
    "class MultiStack:\n",
    "    def __init__(self, num_stacks, size):\n",
    "        self.num_stacks = num_stacks\n",
    "        self.stack = [None] * size\n",
    "        self.tops = [-1] * num_stacks\n",
    "        self.size = size // num_stacks\n",
    "        self.start = [i * self.size for i in range(num_stacks)]\n",
    "\n",
    "    def push(self, stack_num, value):\n",
    "        top = self.tops[stack_num]\n",
    "        if top < self.size - 1:\n",
    "            index = self.start[stack_num] + top + 1\n",
    "            self.stack[index] = value\n",
    "            self.tops[stack_num] += 1\n",
    "        else:\n",
    "            print(\"Stack Overflow in stack\", stack_num)\n",
    "\n",
    "    def pop(self, stack_num):\n",
    "        if self.tops[stack_num] == -1:\n",
    "            print(\"Stack Underflow in stack\", stack_num)\n",
    "            return None\n",
    "        index = self.start[stack_num] + self.tops[stack_num]\n",
    "        value = self.stack[index]\n",
    "        self.stack[index] = None\n",
    "        self.tops[stack_num] -= 1\n",
    "        return value\n",
    "\n",
    "# Example:\n",
    "stacks = MultiStack(3, 9)\n",
    "stacks.push(0, 'a')\n",
    "stacks.push(1, 'b')\n",
    "stacks.push(2, 'c')\n",
    "print(stacks.pop(0))  "
   ]
  },
  {
   "cell_type": "code",
   "execution_count": null,
   "id": "5e7a43e6-96f4-4ad0-b622-4e9d079fa324",
   "metadata": {},
   "outputs": [],
   "source": []
  }
 ],
 "metadata": {
  "kernelspec": {
   "display_name": "Python 3 (ipykernel)",
   "language": "python",
   "name": "python3"
  },
  "language_info": {
   "codemirror_mode": {
    "name": "ipython",
    "version": 3
   },
   "file_extension": ".py",
   "mimetype": "text/x-python",
   "name": "python",
   "nbconvert_exporter": "python",
   "pygments_lexer": "ipython3",
   "version": "3.12.4"
  }
 },
 "nbformat": 4,
 "nbformat_minor": 5
}
