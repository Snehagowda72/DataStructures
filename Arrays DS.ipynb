{
 "cells": [
  {
   "cell_type": "code",
   "execution_count": 3,
   "id": "da8aa0af-e3e1-4cff-ac4b-a877f868f188",
   "metadata": {},
   "outputs": [
    {
     "name": "stdout",
     "output_type": "stream",
     "text": [
      "<class 'array.array'>\n",
      "sum: 34\n",
      "Average: 4.857142857142857\n"
     ]
    }
   ],
   "source": [
    "import array as ar\n",
    "x= ar.array('i',[3,5,2,7,8,4,5])\n",
    "print(type(x))\n",
    "x_sum= sum(x)\n",
    "print(\"sum:\",x_sum)\n",
    "length= len(x)\n",
    "average= x_sum/length\n",
    "print(\"Average:\",average)"
   ]
  },
  {
   "cell_type": "code",
   "execution_count": 5,
   "id": "b842afaa-573a-4e3f-98d9-e370133f3880",
   "metadata": {},
   "outputs": [
    {
     "name": "stdout",
     "output_type": "stream",
     "text": [
      "<class 'array.array'>\n",
      "sum: 34\n",
      "Average: 4.857142857142857\n"
     ]
    }
   ],
   "source": [
    "import numpy as np\n",
    "x= ar.array('i',[3,5,2,7,8,4,5])\n",
    "print(type(x))\n",
    "x_sum= sum(x)\n",
    "print(\"sum:\",x_sum)\n",
    "length= len(x)\n",
    "average= x_sum/length\n",
    "print(\"Average:\",average)"
   ]
  },
  {
   "cell_type": "code",
   "execution_count": null,
   "id": "2ffc0267-dc26-4d30-9db4-e798aa553b6c",
   "metadata": {},
   "outputs": [],
   "source": []
  }
 ],
 "metadata": {
  "kernelspec": {
   "display_name": "Python 3 (ipykernel)",
   "language": "python",
   "name": "python3"
  },
  "language_info": {
   "codemirror_mode": {
    "name": "ipython",
    "version": 3
   },
   "file_extension": ".py",
   "mimetype": "text/x-python",
   "name": "python",
   "nbconvert_exporter": "python",
   "pygments_lexer": "ipython3",
   "version": "3.12.4"
  }
 },
 "nbformat": 4,
 "nbformat_minor": 5
}
