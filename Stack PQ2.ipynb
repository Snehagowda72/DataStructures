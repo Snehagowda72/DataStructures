{
 "cells": [
  {
   "cell_type": "code",
   "execution_count": 10,
   "id": "04c8e2a3-fb8d-4e57-b730-44255da762af",
   "metadata": {},
   "outputs": [
    {
     "name": "stdout",
     "output_type": "stream",
     "text": [
      "5\n"
     ]
    }
   ],
   "source": [
    "#1 . Parentheses Positioning Error:\n",
    "#• Write a function to find the position of the first mismatched parenthesis in a given string. Return -1 if all parentheses are balanced.\n",
    "def first_mismatch_parenthesis(s):\n",
    "    stack = []\n",
    "    for i, char in enumerate(s):\n",
    "        if char == '(':\n",
    "            stack.append(i)\n",
    "        elif char == ')':\n",
    "            if stack:\n",
    "                stack.pop()\n",
    "            else:\n",
    "                return i  \n",
    "    if stack:\n",
    "        return stack[0]  \n",
    "    return -1  \n",
    "\n",
    "print(first_mismatch_parenthesis(\"(a+b))\"))  \n"
   ]
  },
  {
   "cell_type": "code",
   "execution_count": 14,
   "id": "42cdb908-1683-49ee-bec5-71bf0423e524",
   "metadata": {},
   "outputs": [
    {
     "name": "stdout",
     "output_type": "stream",
     "text": [
      "[2, 6, 8, 12]\n"
     ]
    }
   ],
   "source": [
    "#2. Parentheses in a Long String:\n",
    "#• Given a long string with multiple characters, find all the positions where parentheses are balanced and return them.\n",
    "def find_balanced_positions(s):\n",
    "    stack = []\n",
    "    valid = [0] * len(s)\n",
    "\n",
    "    for i, char in enumerate(s):\n",
    "        if char == '(':\n",
    "            stack.append(i)\n",
    "        elif char == ')' and stack:\n",
    "            open_index = stack.pop()\n",
    "            valid[open_index] = 1\n",
    "            valid[i] = 1\n",
    "\n",
    "    return [i for i, v in enumerate(valid) if v == 1]\n",
    "print(find_balanced_positions(\"a+(b*c)-(d/e)\"))\n"
   ]
  },
  {
   "cell_type": "code",
   "execution_count": 18,
   "id": "b6ba553a-d1d7-4797-9504-90c42b1fd298",
   "metadata": {},
   "outputs": [
    {
     "name": "stdout",
     "output_type": "stream",
     "text": [
      "1\n"
     ]
    }
   ],
   "source": [
    "#3. Minimum Number of Parentheses to Add:\n",
    "#• Given a string with parentheses, find the minimum number of parentheses needed to be added to make the string valid.\n",
    "def min_add_to_make_valid(s):\n",
    "    open_needed = 0\n",
    "    close_needed = 0\n",
    "\n",
    "    for char in s:\n",
    "        if char == '(':\n",
    "            open_needed += 1\n",
    "        elif char == ')':\n",
    "            if open_needed > 0:\n",
    "                open_needed -= 1\n",
    "            else:\n",
    "                close_needed += 1\n",
    "\n",
    "    return open_needed + close_needed\n",
    "print(min_add_to_make_valid(\"(()\"))\n"
   ]
  },
  {
   "cell_type": "code",
   "execution_count": 22,
   "id": "a77de5e7-34f2-449a-8a33-5e77f5b17535",
   "metadata": {},
   "outputs": [
    {
     "name": "stdout",
     "output_type": "stream",
     "text": [
      "6\n"
     ]
    }
   ],
   "source": [
    "# 4. Longest Valid Parentheses Substring:\n",
    "#• Given a string containing just the characters ( and ), find the length of the longest valid (well-formed) parentheses substring.\n",
    "def longest_valid_parentheses(s):\n",
    "    stack = [-1]\n",
    "    max_len = 0\n",
    "\n",
    "    for i, char in enumerate(s):\n",
    "        if char == '(':\n",
    "            stack.append(i)\n",
    "        else:\n",
    "            stack.pop()\n",
    "            if stack:\n",
    "                max_len = max(max_len, i - stack[-1])\n",
    "            else:\n",
    "                stack.append(i)\n",
    "\n",
    "    return max_len\n",
    "print(longest_valid_parentheses(\"(()())\"))\n"
   ]
  },
  {
   "cell_type": "code",
   "execution_count": null,
   "id": "c0f15ec4-c676-4ef5-b829-9008b6852f64",
   "metadata": {},
   "outputs": [],
   "source": []
  }
 ],
 "metadata": {
  "kernelspec": {
   "display_name": "Python 3 (ipykernel)",
   "language": "python",
   "name": "python3"
  },
  "language_info": {
   "codemirror_mode": {
    "name": "ipython",
    "version": 3
   },
   "file_extension": ".py",
   "mimetype": "text/x-python",
   "name": "python",
   "nbconvert_exporter": "python",
   "pygments_lexer": "ipython3",
   "version": "3.12.4"
  }
 },
 "nbformat": 4,
 "nbformat_minor": 5
}
